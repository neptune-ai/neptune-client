{
 "cells": [
  {
   "cell_type": "markdown",
   "metadata": {},
   "source": [
    "This notebook demonstrates the functionality of the new Neptune Client prototype.\n",
    "\n",
    "Import the prototype as follows:"
   ]
  },
  {
   "cell_type": "code",
   "execution_count": 1,
   "metadata": {},
   "outputs": [],
   "source": [
    "from neptune_client_prototype import Experiment, Atom, Set, Series, variable"
   ]
  },
  {
   "cell_type": "markdown",
   "metadata": {},
   "source": [
    "Recall that Neptune is a machine learning experiment tracking tool. A machine learning experiment is an instance of training a model with given hyperparameters and training dataset, and evaluating the trained model on a test dataset. While Neptune provides integrations with various machine learning frameworks, Python's Neptune client in its bare form is a unopinionated logger which logs structured data to a remote server. In practice, logged data would be: the experiment's hyperparameters, metadata, metrics across batches and epochs, etc. \n",
    "\n",
    "Below is an example of logging data to Neptune:"
   ]
  },
  {
   "cell_type": "code",
   "execution_count": 2,
   "metadata": {
    "tags": []
   },
   "outputs": [
    {
     "output_type": "stream",
     "name": "stdout",
     "text": "Experiment NPT-1: training/batch/accuracy: log step=0, timestamp=1594046278.527955, value=0.95\nExperiment NPT-1: training/batch/loss: log step=0, timestamp=1594046278.533241, value=422.345\nExperiment NPT-1: training/batch/accuracy: log step=1, timestamp=1594046278.533371, value=0.96\nExperiment NPT-1: training/batch/loss: log step=1, timestamp=1594046278.534185, value=344.344\nExperiment NPT-1: training/epoch/accuracy: log step=0, timestamp=1594046278.5342631, value=0.94\nExperiment NPT-1: training/epoch/loss: log step=0, timestamp=1594046278.534326, value=234.566\n"
    }
   ],
   "source": [
    "exp1 = Experiment('NPT-1')\n",
    "exp1['training/batch/accuracy'].log(.95)\n",
    "exp1['training/batch/loss'].log(422.345)\n",
    "exp1['training/batch/accuracy'].log(.96)\n",
    "exp1['training/batch/loss'].log(344.344)\n",
    "exp1['training/epoch/accuracy'].log(.94)\n",
    "exp1['training/epoch/loss'].log(234.566)"
   ]
  },
  {
   "cell_type": "markdown",
   "metadata": {},
   "source": [
    "Observe the printed output and note that for each invocation of the `log` method, a line was printed with the experiment's name, path, and the logged value. Fields `step` and `timestamp` will be explained below.\n",
    "\n",
    "In the production Neptune client, logged data is sent to a server and stored there. This prototype prints logged data to stdout and keep the cumulative state in memory.\n",
    "\n",
    "If you have used the current release of Neptune, you will be familiar with the notion of viewing experiment data in Neptune UI in the browser. However, it is also possible to retrieve logged experiment data programmatically using Neptune's Python client. The cell below retrieves some of the logged data using methods `tail` and `all`."
   ]
  },
  {
   "cell_type": "code",
   "execution_count": 3,
   "metadata": {},
   "outputs": [
    {
     "output_type": "execute_result",
     "data": {
      "text/plain": "{'batch': {'accuracy': [0.96], 'loss': [422.345, 344.344]},\n 'epoch': {'accuracy': [0.94], 'loss': [234.566]}}"
     },
     "metadata": {},
     "execution_count": 3
    }
   ],
   "source": [
    "training = {'batch': {}, 'epoch': {}}\n",
    "training['batch']['accuracy'] = exp1['training/batch/accuracy'].tail(1)\n",
    "training['batch']['loss'] = exp1['training/batch/loss'].tail(2)\n",
    "training['epoch']['accuracy'] = exp1['training/epoch/accuracy'].all()\n",
    "training['epoch']['loss'] = exp1['training/epoch/loss'].all()\n",
    "training"
   ]
  },
  {
   "cell_type": "markdown",
   "metadata": {},
   "source": [
    "Python's Neptune client may be best understood by comparing it with a append-only logger which logs unstructured text. By contrast, Neptune client logs data into *variables*. E.g. consider\n",
    "\n",
    "`exp1['training/batch/accuracy'].log(.95)`\n",
    "\n",
    "The value `.95` is logged into the variable which is identified by its path `training/batch/accuracy`. Methods like `tail` or `all` act on variables: `tail(n)` returns a list of `n` last values logged into the variable, and `all()` returns a list of all values logged into the variable.\n",
    "\n",
    "A variable is created when a writing method like `log` is used on a path for the first time. An attempt to read from a variable which has not been initialized (recall that initialization happends through writing to a new path) raises an error."
   ]
  },
  {
   "cell_type": "code",
   "execution_count": 4,
   "metadata": {},
   "outputs": [
    {
     "output_type": "error",
     "ename": "AttributeError",
     "evalue": "",
     "traceback": [
      "\u001b[0;31m---------------------------------------------------------------------------\u001b[0m",
      "\u001b[0;31mAttributeError\u001b[0m                            Traceback (most recent call last)",
      "\u001b[0;32m<ipython-input-4-18eed64bfb86>\u001b[0m in \u001b[0;36m<module>\u001b[0;34m\u001b[0m\n\u001b[0;32m----> 1\u001b[0;31m \u001b[0mexp1\u001b[0m\u001b[0;34m[\u001b[0m\u001b[0;34m'does-not/exist'\u001b[0m\u001b[0;34m]\u001b[0m\u001b[0;34m.\u001b[0m\u001b[0mtail\u001b[0m\u001b[0;34m(\u001b[0m\u001b[0;36m42\u001b[0m\u001b[0;34m)\u001b[0m\u001b[0;34m\u001b[0m\u001b[0;34m\u001b[0m\u001b[0m\n\u001b[0m",
      "\u001b[0;32m~/projects/neptune-client/neptune_client_prototype/experiment.py\u001b[0m in \u001b[0;36m__getattr__\u001b[0;34m(self, attr)\u001b[0m\n\u001b[1;32m    145\u001b[0m             \u001b[0;32mreturn\u001b[0m \u001b[0mgetattr\u001b[0m\u001b[0;34m(\u001b[0m\u001b[0mvar\u001b[0m\u001b[0;34m,\u001b[0m \u001b[0mattr\u001b[0m\u001b[0;34m)\u001b[0m\u001b[0;34m\u001b[0m\u001b[0;34m\u001b[0m\u001b[0m\n\u001b[1;32m    146\u001b[0m         \u001b[0;32melse\u001b[0m\u001b[0;34m:\u001b[0m\u001b[0;34m\u001b[0m\u001b[0;34m\u001b[0m\u001b[0m\n\u001b[0;32m--> 147\u001b[0;31m             \u001b[0;32mraise\u001b[0m \u001b[0mAttributeError\u001b[0m\u001b[0;34m(\u001b[0m\u001b[0;34m)\u001b[0m\u001b[0;34m\u001b[0m\u001b[0;34m\u001b[0m\u001b[0m\n\u001b[0m\u001b[1;32m    148\u001b[0m \u001b[0;34m\u001b[0m\u001b[0m\n\u001b[1;32m    149\u001b[0m     \u001b[0;32mdef\u001b[0m \u001b[0mnamespace_contents\u001b[0m\u001b[0;34m(\u001b[0m\u001b[0mself\u001b[0m\u001b[0;34m)\u001b[0m\u001b[0;34m:\u001b[0m\u001b[0;34m\u001b[0m\u001b[0;34m\u001b[0m\u001b[0m\n",
      "\u001b[0;31mAttributeError\u001b[0m: "
     ]
    }
   ],
   "source": [
    "exp1['does-not/exist'].tail(42)"
   ]
  },
  {
   "cell_type": "code",
   "execution_count": 5,
   "metadata": {},
   "outputs": [],
   "source": [
    "# TODO provide a better error message"
   ]
  },
  {
   "cell_type": "markdown",
   "metadata": {},
   "source": [
    "It is important to understand that the lookup / `__getitem__` syntax on an experiment object evaluates to an `ExperimentView`:"
   ]
  },
  {
   "cell_type": "code",
   "execution_count": 6,
   "metadata": {},
   "outputs": [
    {
     "output_type": "execute_result",
     "data": {
      "text/plain": "neptune_client_prototype.experiment.ExperimentView"
     },
     "metadata": {},
     "execution_count": 6
    }
   ],
   "source": [
    "type(exp1['some-path'])"
   ]
  },
  {
   "cell_type": "markdown",
   "metadata": {},
   "source": [
    "An `ExperimentView` is a simple proxy object which stores a reference to the experiment and the path used in the lookup (`'some-path'` in the above example). The path may or may not correspond to an existing variable. If the path corresponds to an existing variable, then method calls on the `ExperimentView` are delegated to that variable. If the path does not correspond to an existing variable, then calling a writing method like `log` on it creates a new variable, whereas calling a reading method on it raises an error, as is demonstrated above."
   ]
  },
  {
   "cell_type": "markdown",
   "metadata": {},
   "source": [
    "## Variable types\n",
    "\n",
    "Suppose we initialize a variable with the `log` method:"
   ]
  },
  {
   "cell_type": "code",
   "execution_count": 7,
   "metadata": {
    "tags": []
   },
   "outputs": [
    {
     "output_type": "stream",
     "name": "stdout",
     "text": "Experiment NPT-1: foo: log step=0, timestamp=1594046278.710868, value=42.0\n"
    }
   ],
   "source": [
    "exp1['foo'].log(42.0)"
   ]
  },
  {
   "cell_type": "markdown",
   "metadata": {},
   "source": [
    "We can examine the type of that variable:"
   ]
  },
  {
   "cell_type": "code",
   "execution_count": 8,
   "metadata": {},
   "outputs": [
    {
     "output_type": "execute_result",
     "data": {
      "text/plain": "(neptune_client_prototype.variable.Series, float)"
     },
     "metadata": {},
     "execution_count": 8
    }
   ],
   "source": [
    "exp1['foo'].variable_type()"
   ]
  },
  {
   "cell_type": "markdown",
   "metadata": {},
   "source": [
    "A Neptune variable type consists of two parts: the *container type* and the *content type*. Performing `exp1['foo'].log(42.0)` created a variable of container type `Series` and of content type `float`.\n",
    "\n",
    "The Series container type represents a sequence of values which are typically appended, but can also be modified otherwise. We can obtain the list of initializing / modifying / reading methods on a Series as follows:"
   ]
  },
  {
   "cell_type": "code",
   "execution_count": 9,
   "metadata": {
    "tags": []
   },
   "outputs": [
    {
     "output_type": "stream",
     "name": "stdout",
     "text": "\n    Writing / initializing methods: log\n    Reading methods: tail, all\n    \n"
    }
   ],
   "source": [
    "print(Series.__doc__)"
   ]
  },
  {
   "cell_type": "markdown",
   "metadata": {},
   "source": [
    "As stated in the docstring, a `Series` can be created / written to using the `log` method, and read from using `tail` and `all` methods.\n",
    "\n",
    "We can view a list of container types provided by Neptune by inspecting the documentation for the `variable` module:"
   ]
  },
  {
   "cell_type": "code",
   "execution_count": 10,
   "metadata": {
    "tags": []
   },
   "outputs": [
    {
     "output_type": "stream",
     "name": "stdout",
     "text": "\nDefines variables and container types.\n\nNeptune define three container types: Atom, Series, and Set.\n\nDetailed documentation on creating / modifying / reading variables of\na container type, refer to the documentation for the given container type,\ne.g.\n\n>>> help(Series)\n\n"
    }
   ],
   "source": [
    "print(variable.__doc__)"
   ]
  },
  {
   "cell_type": "markdown",
   "metadata": {},
   "source": [
    "As stated in the documentation, apart from `Series`, two other container types supported by Neptune are `Atom` and `Set`.\n",
    "\n",
    "We can now examine the `Atom` container type:"
   ]
  },
  {
   "cell_type": "code",
   "execution_count": 11,
   "metadata": {
    "tags": []
   },
   "outputs": [
    {
     "output_type": "stream",
     "name": "stdout",
     "text": "\n    Modifying / initializing methods: assign\n    Reading methods: read\n    \n"
    }
   ],
   "source": [
    "print(Atom.__doc__)"
   ]
  },
  {
   "cell_type": "markdown",
   "metadata": {},
   "source": [
    "We can observe the bevavior of its `assign` and `read` methods:"
   ]
  },
  {
   "cell_type": "code",
   "execution_count": 12,
   "metadata": {
    "tags": []
   },
   "outputs": [
    {
     "output_type": "stream",
     "name": "stdout",
     "text": "Experiment NPT-1: experiment-author: assign John Doe\nJohn Doe\nExperiment NPT-1: experiment-author: assign Jane Doe\nJane Doe\n"
    }
   ],
   "source": [
    "exp1['experiment-author'].assign('John Doe')\n",
    "print(exp1['experiment-author'].read())\n",
    "exp1['experiment-author'].assign('Jane Doe')\n",
    "print(exp1['experiment-author'].read())\n"
   ]
  },
  {
   "cell_type": "markdown",
   "metadata": {},
   "source": [
    "A variable of type `Atom` is created by a call to the `assign` method and can be read from using the `read` method. Subsequent calls to `assign` on an `Atom` variable override the value."
   ]
  },
  {
   "cell_type": "code",
   "execution_count": 13,
   "metadata": {},
   "outputs": [],
   "source": [
    "# TODO can subsequent `assign` calls change the content type of the method? likewise, can `reset` on a Set change the content type of the Set?"
   ]
  },
  {
   "cell_type": "markdown",
   "metadata": {},
   "source": [
    "Finally, we examine the `Set` container type."
   ]
  },
  {
   "cell_type": "code",
   "execution_count": 14,
   "metadata": {
    "tags": []
   },
   "outputs": [
    {
     "output_type": "stream",
     "name": "stdout",
     "text": "\n    Modifying / initializing methods: add\n    Writing methods: remove, reset\n    Reading methods: get\n    \n"
    }
   ],
   "source": [
    "print(Set.__doc__)"
   ]
  },
  {
   "cell_type": "code",
   "execution_count": 15,
   "metadata": {
    "tags": []
   },
   "outputs": [
    {
     "output_type": "stream",
     "name": "stdout",
     "text": "Experiment NPT-1: tags: add ('cnn', 'rnn')\n{'cnn', 'rnn'}\nExperiment NPT-1: tags: add ('transformer',)\n{'transformer', 'cnn', 'rnn'}\nExperiment NPT-1: tags: remove ('cnn',)\n{'transformer', 'rnn'}\nExperiment NPT-1: tags: reset ('attention',)\n{'attention'}\n"
    }
   ],
   "source": [
    "exp1['tags'].add('cnn', 'rnn')\n",
    "print(exp1['tags'].get())\n",
    "exp1['tags'].add('transformer')\n",
    "print(exp1['tags'].get())\n",
    "exp1['tags'].remove('cnn')\n",
    "print(exp1['tags'].get())\n",
    "exp1['tags'].reset('attention')\n",
    "print(exp1['tags'].get())"
   ]
  },
  {
   "cell_type": "markdown",
   "metadata": {},
   "source": [
    "This concludes the discussion of different types of variables and their methods. In the next section, we will discuss organizing variables into namespaces."
   ]
  },
  {
   "cell_type": "markdown",
   "metadata": {},
   "source": [
    "# Organizing variables with namespaces\n",
    "\n",
    "Recall the example from the previous section:"
   ]
  },
  {
   "cell_type": "code",
   "execution_count": 16,
   "metadata": {
    "tags": []
   },
   "outputs": [
    {
     "output_type": "stream",
     "name": "stdout",
     "text": "Experiment NPT-1: training/batch/accuracy: log step=0, timestamp=1594046278.835893, value=0.95\nExperiment NPT-1: training/batch/loss: log step=0, timestamp=1594046278.8366148, value=422.345\nExperiment NPT-1: training/batch/accuracy: log step=1, timestamp=1594046278.836745, value=0.96\nExperiment NPT-1: training/batch/loss: log step=1, timestamp=1594046278.836885, value=344.344\nExperiment NPT-1: training/epoch/accuracy: log step=0, timestamp=1594046278.837058, value=0.94\nExperiment NPT-1: training/epoch/loss: log step=0, timestamp=1594046278.837183, value=234.566\n"
    }
   ],
   "source": [
    "exp1 = Experiment('NPT-1')\n",
    "exp1['training/batch/accuracy'].log(.95)\n",
    "exp1['training/batch/loss'].log(422.345)\n",
    "exp1['training/batch/accuracy'].log(.96)\n",
    "exp1['training/batch/loss'].log(344.344)\n",
    "exp1['training/epoch/accuracy'].log(.94)\n",
    "exp1['training/epoch/loss'].log(234.566)"
   ]
  },
  {
   "cell_type": "code",
   "execution_count": 17,
   "metadata": {},
   "outputs": [
    {
     "output_type": "execute_result",
     "data": {
      "text/plain": "{'batch': neptune_client_prototype.experiment.Namespace,\n 'epoch': neptune_client_prototype.experiment.Namespace}"
     },
     "metadata": {},
     "execution_count": 17
    }
   ],
   "source": [
    "exp1['training'].namespace_contents()"
   ]
  },
  {
   "cell_type": "code",
   "execution_count": null,
   "metadata": {},
   "outputs": [],
   "source": []
  },
  {
   "cell_type": "code",
   "execution_count": null,
   "metadata": {},
   "outputs": [],
   "source": []
  },
  {
   "cell_type": "markdown",
   "metadata": {},
   "source": [
    "An experiment exposes methods for logging data. In the real-world implementation, logged data is sent to a Neptune server; this prototype implementation prints logged data to standard output and stores the state of variables in memory.\n",
    "\n",
    "The following syntax is of special importance:"
   ]
  },
  {
   "cell_type": "code",
   "execution_count": 3,
   "metadata": {},
   "outputs": [
    {
     "output_type": "execute_result",
     "data": {
      "text/plain": "<neptune_client_prototype.experiment.ExperimentView at 0x104032640>"
     },
     "metadata": {},
     "execution_count": 3
    }
   ],
   "source": [
    "exp1['name']"
   ]
  },
  {
   "cell_type": "markdown",
   "metadata": {},
   "source": [
    "Using the lookup / `__getitem__` syntax on an experiment objects evaluates the an `ExperimentView`. An `ExperimentView` is a simple proxy object which stores a reference to the experiment and the key used in the lookup (`'name'` in the above example).\n",
    "\n",
    "Suppose we have an `ExperimentView` object holding a reference to experiment `exp` and `key` (possibly created by the syntax `exp[key]`). An `ExperimentView` object provides methods for logging data for the given experiment `exp` under the key `key`.\n",
    "\n",
    "One of such logging methods is, well, the `log` method."
   ]
  },
  {
   "cell_type": "code",
   "execution_count": 4,
   "metadata": {
    "tags": []
   },
   "outputs": [
    {
     "output_type": "stream",
     "name": "stdout",
     "text": "Experiment NPT-1: accuracy: log step=0, timestamp=1593615609.156553, value=0.95\n"
    }
   ],
   "source": [
    "exp1['accuracy'].log(.95)"
   ]
  },
  {
   "cell_type": "markdown",
   "metadata": {},
   "source": [
    "Note that the printed output of the above cell contains the experiment name \"NPT-1\", the key \"accuracy\", and the logged value 0.95. `step` and `timestamp` values will be explained below.\n",
    "\n",
    "Let us log more \"accuracy\" values."
   ]
  },
  {
   "cell_type": "code",
   "execution_count": 5,
   "metadata": {
    "tags": []
   },
   "outputs": [
    {
     "output_type": "stream",
     "name": "stdout",
     "text": "Experiment NPT-1: accuracy: log step=1, timestamp=1593615912.633049, value=0.96\nExperiment NPT-1: accuracy: log step=2, timestamp=1593615912.6331809, value=0.97\n"
    }
   ],
   "source": [
    "exp1['accuracy'].log(.96)\n",
    "exp1['accuracy'].log(.97)"
   ]
  },
  {
   "cell_type": "markdown",
   "metadata": {},
   "source": [
    "If you have used the current release of Neptune, you will be familiar with the notion of viewing experiment data in Neptune UI in the browser. However, it is also possible to retrieve logged experiment data programmatically using Neptune's Python client. The cell below retrieves the last two values logged under the key \"accuracy\":"
   ]
  },
  {
   "cell_type": "code",
   "execution_count": 6,
   "metadata": {},
   "outputs": [
    {
     "output_type": "execute_result",
     "data": {
      "text/plain": "[0.96, 0.97]"
     },
     "metadata": {},
     "execution_count": 6
    }
   ],
   "source": [
    "exp['accuracy'].tail(2)"
   ]
  },
  {
   "cell_type": "markdown",
   "metadata": {},
   "source": [
    "Note that nothing was printed to stdout, which means that the `tail` method did not perform a write. Instead, it returned a Python list containing the last two values logged under the key \"accuracy\".\n",
    "\n",
    "It is now time to introduce new terminlogy. An experiment and a key defines a `Variable`. A `Variable` has a specific structure, which is determined by the write method used to create it. In this case, the structure of the variable `exp['accuracy']` is `Series`, because it was created with a `log` method.\n",
    "\n",
    "A `Series` variable represents a list of values. It has several read/write methods, of which this tutorial demonstrates the `log` write method and the `tail` read method. It is important to understand that calling a write method on an `ExperimentView` results in creating a variable of the appropriate type.\n",
    "\n",
    "Let us go through this sequence of steps again, discussing the behavior at each step.\n",
    "\n",
    "First we create a new experiment."
   ]
  },
  {
   "cell_type": "code",
   "execution_count": 7,
   "metadata": {},
   "outputs": [],
   "source": [
    "exp2 = Experiment('NPT-2')"
   ]
  },
  {
   "cell_type": "markdown",
   "metadata": {},
   "source": [
    "At this point the newly created experiment `exp2` does not contain any variables.\n",
    "\n",
    "Then call the `log` method on an `ExperimentView`:"
   ]
  },
  {
   "cell_type": "code",
   "execution_count": 8,
   "metadata": {
    "tags": []
   },
   "outputs": [
    {
     "output_type": "stream",
     "name": "stdout",
     "text": "Experiment NPT-2: accuracy: log step=0, timestamp=1593617003.777708, value=0.95\n"
    }
   ],
   "source": [
    "exp2['accuracy'].log(0.95)"
   ]
  },
  {
   "cell_type": "markdown",
   "metadata": {},
   "source": [
    "Let us analyse this command in detail. The above cell in Python is equivalent to:\n",
    "\n",
    "```python\n",
    "ev = exp2['accuracy'] # (1)\n",
    "ev.log(0.95)          # (2)\n",
    "```\n",
    "\n",
    "TBC"
   ]
  }
 ],
 "metadata": {
  "language_info": {
   "codemirror_mode": {
    "name": "ipython",
    "version": 3
   },
   "file_extension": ".py",
   "mimetype": "text/x-python",
   "name": "python",
   "nbconvert_exporter": "python",
   "pygments_lexer": "ipython3",
   "version": 3
  },
  "orig_nbformat": 2,
  "kernelspec": {
   "name": "python_defaultSpec_1593612434159",
   "display_name": "Python 3.8.2 64-bit ('.env': venv)"
  }
 },
 "nbformat": 4,
 "nbformat_minor": 2
}
