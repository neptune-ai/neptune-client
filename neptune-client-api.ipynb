{
 "cells": [
  {
   "cell_type": "code",
   "execution_count": null,
   "metadata": {},
   "outputs": [],
   "source": [
    "from neptune.session import Session\n",
    "\n",
    "session = Session(\"token=\")"
   ]
  },
  {
   "cell_type": "code",
   "execution_count": null,
   "metadata": {},
   "outputs": [],
   "source": [
    "project = session.get_project(\"neptune-ml/Ships\")"
   ]
  },
  {
   "cell_type": "code",
   "execution_count": null,
   "metadata": {},
   "outputs": [],
   "source": [
    "exp = project.create_experiment( # create experiment, with params and tags\n",
    "    params={\n",
    "    \"lr__C\": 1000,\n",
    "    \"epochs\": 10,\n",
    "    \"shuffle\": true\n",
    "}, \n",
    "    tags=[\"solution-6\", \"stacking\"],\n",
    "    send_hardware_metrics=False, # default = True\n",
    "    run_monitoring_thread=False, # default = True\n",
    "    upload_sources_files=[\"main.py\"], # default = this file\n",
    "    handle_uncaught_exceptions=False # default = True\n",
    ")"
   ]
  },
  {
   "cell_type": "code",
   "execution_count": null,
   "metadata": {},
   "outputs": [],
   "source": [
    "exp.send_metric(\"ROC_AUC\", 0.75)\n",
    "exp.send_metric(\"ROC_AUC_STD\", 0.002)\n",
    "exp.send_text(\"log\", \"done\")\n",
    "exp.send_image(\"false\", \"/tmp/failed_class.png\")"
   ]
  },
  {
   "cell_type": "code",
   "execution_count": null,
   "metadata": {},
   "outputs": [],
   "source": [
    "exp.set_tags(exp.get_tags().append(\"new-tag\")) # update tags"
   ]
  },
  {
   "cell_type": "code",
   "execution_count": null,
   "metadata": {},
   "outputs": [],
   "source": [
    "exp.send_artifact(\"model.file\")"
   ]
  },
  {
   "cell_type": "code",
   "execution_count": null,
   "metadata": {},
   "outputs": [],
   "source": [
    "exp.stop() # end experiment, state = successful"
   ]
  },
  {
   "cell_type": "code",
   "execution_count": null,
   "metadata": {},
   "outputs": [],
   "source": [
    "exp.stop(ex) # ex or exit code not 0, state = failed"
   ]
  }
 ],
 "metadata": {
  "kernelspec": {
   "display_name": "Python 2",
   "language": "python",
   "name": "python2"
  },
  "language_info": {
   "codemirror_mode": {
    "name": "ipython",
    "version": 2
   },
   "file_extension": ".py",
   "mimetype": "text/x-python",
   "name": "python",
   "nbconvert_exporter": "python",
   "pygments_lexer": "ipython2",
   "version": "2.7.15rc1"
  }
 },
 "nbformat": 4,
 "nbformat_minor": 2
}
